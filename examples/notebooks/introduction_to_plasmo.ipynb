{
 "cells": [
  {
   "cell_type": "markdown",
   "metadata": {},
   "source": [
    "# A Quick Introduction to Modeling Optimization Problems with OptiGraphs.jl"
   ]
  },
  {
   "cell_type": "markdown",
   "metadata": {},
   "source": [
    "## Load Packages"
   ]
  },
  {
   "cell_type": "code",
   "execution_count": 1,
   "metadata": {},
   "outputs": [
    {
     "name": "stderr",
     "output_type": "stream",
     "text": [
      "\u001b[32m\u001b[1m  Activating\u001b[22m\u001b[39m project at `~/git/Plasmo.jl/examples`\n",
      "\u001b[36m\u001b[1m[ \u001b[22m\u001b[39m\u001b[36m\u001b[1mInfo: \u001b[22m\u001b[39mPrecompiling Plasmo [d3f7391f-f14a-50cc-bbe4-76a32d1bad3c]\n"
     ]
    }
   ],
   "source": [
    "using Pkg\n",
    "Pkg.activate(joinpath(@__DIR__,\"..\"))\n",
    "push!(LOAD_PATH,joinpath(@__DIR__,\"../..\"))\n",
    "using Plasmo\n",
    "using Ipopt"
   ]
  },
  {
   "cell_type": "markdown",
   "metadata": {},
   "source": [
    "## Create a new OptiGraph\n",
    "Here we create a new optigraph and add one variable to it."
   ]
  },
  {
   "cell_type": "code",
   "execution_count": 25,
   "metadata": {},
   "outputs": [
    {
     "data": {
      "text/plain": [
       "An OptiGraph:  my_graph\n",
       "                 #local elements  #total elements\n",
       "--------------------------------------------------\n",
       "          Nodes:         0                0\n",
       "          Edges:         0                0\n",
       "      Subgraphs:         0                0\n",
       "      Variables:         0                0\n",
       "    Constraints:         0                0\n"
      ]
     },
     "execution_count": 25,
     "metadata": {},
     "output_type": "execute_result"
    }
   ],
   "source": [
    "graph = OptiGraph(;name=:my_graph)\n",
    "graph"
   ]
  },
  {
   "cell_type": "markdown",
   "metadata": {},
   "source": [
    "## Add OptiNodes\n",
    "Optinodes extend the JuMP.AbstractModel and offer the same syntax used to construct a `JuMP.Model`. Here we add four nodes and create variables and constraints on each of them."
   ]
  },
  {
   "cell_type": "code",
   "execution_count": 26,
   "metadata": {},
   "outputs": [
    {
     "data": {
      "text/plain": [
       "An OptiGraph:  my_graph\n",
       "                 #local elements  #total elements\n",
       "--------------------------------------------------\n",
       "          Nodes:         4                4\n",
       "          Edges:         0                0\n",
       "      Subgraphs:         0                0\n",
       "      Variables:        10               10\n",
       "    Constraints:        21               21\n"
      ]
     },
     "execution_count": 26,
     "metadata": {},
     "output_type": "execute_result"
    }
   ],
   "source": [
    "n1 = add_node(graph)\n",
    "@variable(n1, 0 <= x <= 2)\n",
    "@variable(n1, 0 <= y <= 3)\n",
    "@variable(n1, 0 <= z <= 2)\n",
    "@constraint(n1, x + y + z >= 4)\n",
    "\n",
    "n2 = add_node(graph)\n",
    "@variable(n2, x >= 0)\n",
    "@constraint(n2, ref, exp(x) >= 2)\n",
    "@variable(n2, 0 <= z <= 2)\n",
    "@constraint(n2, z + x >= 4)\n",
    "\n",
    "n3 = add_node(graph)\n",
    "@variable(n3, x[1:3] >= 0)\n",
    "@constraint(n3, nlcon, exp(x[3]) >= 5)\n",
    "@constraint(n3, conref, sum(x[i] for i in 1:3) == 10)\n",
    "\n",
    "n4 = add_node(graph)\n",
    "@variable(n4, x[1:2] >= 0)\n",
    "@constraint(n4, sum(x[i] for i in 1:2) >= 10)\n",
    "@constraint(n4, ref, exp(x[2]) >= 4)\n",
    "\n",
    "graph"
   ]
  },
  {
   "cell_type": "markdown",
   "metadata": {},
   "source": [
    "## Add OptiEdges (Linking Constraints)\n",
    "Edges can be added to create coupling constraints between optinodes. Here we create a constraint that couples nodes `n1` and `n2`."
   ]
  },
  {
   "cell_type": "code",
   "execution_count": 27,
   "metadata": {},
   "outputs": [
    {
     "data": {
      "text/latex": [
       "$$ my\\_graph.n1.x - my\\_graph.n2.x = 0 $$"
      ],
      "text/plain": [
       "my_graph.n1.x - my_graph.n2.x = 0"
      ]
     },
     "execution_count": 27,
     "metadata": {},
     "output_type": "execute_result"
    }
   ],
   "source": [
    "edge1 = add_edge(graph, n1, n2)\n",
    "@constraint(graph, n1[:x] == n2[:x])"
   ]
  },
  {
   "cell_type": "markdown",
   "metadata": {},
   "source": [
    "We can also create linking constraints directly. This implicitly creates edges between nodes `n2` and `n3`, and `n3` and `n4`."
   ]
  },
  {
   "cell_type": "code",
   "execution_count": 28,
   "metadata": {},
   "outputs": [
    {
     "data": {
      "text/plain": [
       "An OptiGraph:  my_graph\n",
       "                 #local elements  #total elements\n",
       "--------------------------------------------------\n",
       "          Nodes:         4                4\n",
       "          Edges:         3                3\n",
       "      Subgraphs:         0                0\n",
       "      Variables:        10               10\n",
       "    Constraints:        24               24\n"
      ]
     },
     "execution_count": 28,
     "metadata": {},
     "output_type": "execute_result"
    }
   ],
   "source": [
    "@linkconstraint(graph, link2, n2[:x] == n3[:x][3])\n",
    "@linkconstraint(graph, link3, n3[:x][1] == n4[:x][1])\n",
    "graph"
   ]
  },
  {
   "cell_type": "markdown",
   "metadata": {},
   "source": [
    "## Create an OptiGraph Objective\n",
    "The graph objective can be defined over variables contained within its nodes. Here we pose a nonlinear objective function we wish to minimize."
   ]
  },
  {
   "cell_type": "code",
   "execution_count": 29,
   "metadata": {},
   "outputs": [
    {
     "data": {
      "text/latex": [
       "$ {\\left(my\\_graph.n1.y + my\\_graph.n2.x - my\\_graph.n3.x_{1} - my\\_graph.n3.x_{2} - my\\_graph.n3.x_{3}\\right)} + {\\left({my\\_graph.n4.x_{2}} ^ {3}\\right)} $"
      ],
      "text/plain": [
       "(my_graph.n1.y + my_graph.n2.x - my_graph.n3.x[1] - my_graph.n3.x[2] - my_graph.n3.x[3]) + (my_graph.n4.x[2] ^ 3)"
      ]
     },
     "execution_count": 29,
     "metadata": {},
     "output_type": "execute_result"
    }
   ],
   "source": [
    "# set an objective for the graph\n",
    "@objective(graph, Min, n1[:y] + n2[:x] - (n3[:x][1] + n3[:x][2] + n3[:x][3]) + n4[:x][2]^3)"
   ]
  },
  {
   "cell_type": "markdown",
   "metadata": {},
   "source": [
    "## Solve with an Optimizer\n",
    "Plasmo.jl optigraphs are compatible with all optimizers available through MathOptInterface.jl. Here we use Ipopt to solve our optigraph problem."
   ]
  },
  {
   "cell_type": "code",
   "execution_count": 30,
   "metadata": {},
   "outputs": [
    {
     "name": "stdout",
     "output_type": "stream",
     "text": [
      "This is Ipopt version 3.14.14, running with linear solver MUMPS 5.6.2.\n",
      "\n",
      "Number of nonzeros in equality constraint Jacobian...:        9\n",
      "Number of nonzeros in inequality constraint Jacobian.:       10\n",
      "Number of nonzeros in Lagrangian Hessian.............:        4\n",
      "\n",
      "Total number of variables............................:       10\n",
      "                     variables with only lower bounds:        6\n",
      "                variables with lower and upper bounds:        4\n",
      "                     variables with only upper bounds:        0\n",
      "Total number of equality constraints.................:        4\n",
      "Total number of inequality constraints...............:        6\n",
      "        inequality constraints with only lower bounds:        6\n",
      "   inequality constraints with lower and upper bounds:        0\n",
      "        inequality constraints with only upper bounds:        0\n",
      "\n",
      "iter    objective    inf_pr   inf_du lg(mu)  ||d||  lg(rg) alpha_du alpha_pr  ls\n",
      "   0 -9.9989900e-03 9.98e+00 1.10e+00  -1.0 0.00e+00    -  0.00e+00 0.00e+00   0\n",
      "   1 -5.1109925e-02 9.95e+00 1.58e+00  -1.0 5.40e+00    -  2.03e-03 5.56e-03f  1\n",
      "   2 -1.3773732e-01 9.88e+00 3.95e+00  -1.0 4.71e+00    -  5.70e-03 1.47e-02f  1\n",
      "   3 -7.4007026e-01 8.78e+00 5.17e+00  -1.0 6.94e+00    -  9.07e-03 1.11e-01f  1\n",
      "   4 -8.7756269e-01 8.52e+00 5.53e+00  -1.0 5.85e+00    -  2.11e-02 3.03e-02f  1\n",
      "   5 -1.3329024e+00 7.55e+00 5.89e+00  -1.0 6.72e+00    -  5.24e-02 1.13e-01f  1\n",
      "   6  1.4887234e+00 6.48e-01 2.13e+01  -1.0 6.09e+00    -  1.85e-01 9.13e-01h  1\n",
      "   7 -2.3904355e-01 4.12e-01 1.56e+01  -1.0 9.79e-01    -  5.37e-02 3.64e-01f  1\n",
      "   8 -5.1642819e-01 3.76e-01 1.43e+01  -1.0 6.49e-01    -  7.51e-01 8.86e-02h  1\n",
      "   9  3.2463332e-01 5.50e-02 5.15e+00  -1.0 2.50e+00    -  4.11e-01 8.53e-01h  1\n",
      "iter    objective    inf_pr   inf_du lg(mu)  ||d||  lg(rg) alpha_du alpha_pr  ls\n",
      "  10  4.8754535e-01 1.60e-02 4.73e+00  -1.0 4.70e-01    -  1.00e+00 7.09e-01h  1\n",
      "  11  4.4806486e-01 9.10e-03 3.67e+01  -1.0 4.16e-02    -  1.00e+00 4.31e-01h  1\n",
      "  12  4.8526826e-01 3.48e-03 4.30e+01  -1.0 9.10e-02    -  1.00e+00 6.18e-01h  1\n",
      "  13  4.7989699e-01 1.19e-03 8.95e+01  -1.0 1.62e-02    -  1.00e+00 6.59e-01h  1\n",
      "  14  4.8492185e-01 6.09e-04 3.61e+02  -1.0 1.34e-02    -  1.00e+00 4.88e-01h  1\n",
      "  15  4.8404224e-01 1.90e-04 4.94e+02  -1.0 2.92e-03    -  1.00e+00 6.89e-01h  1\n",
      "  16  4.8444517e-01 1.45e-04 3.36e+03  -1.0 2.17e-03    -  1.00e+00 2.36e-01f  2\n",
      "  17  4.8483828e-01 3.93e-05 2.30e+03  -1.0 1.20e-03    -  1.00e+00 7.29e-01h  1\n",
      "  18  4.8480463e-01 2.70e-05 1.45e+04  -1.0 1.74e-04    -  1.00e+00 3.13e-01f  2\n",
      "  19  4.8482223e-01 2.61e-06 4.02e+03  -1.0 1.75e-04    -  1.00e+00 9.03e-01h  1\n",
      "iter    objective    inf_pr   inf_du lg(mu)  ||d||  lg(rg) alpha_du alpha_pr  ls\n",
      "  20  4.8482802e-01 2.26e-06 2.30e+05  -1.0 4.21e-05    -  1.00e+00 1.32e-01f  2\n",
      "  21  4.8483353e-01 4.30e-07 9.62e+04  -1.0 1.78e-05    -  1.00e+00 8.10e-01h  1\n",
      "  22  4.8483281e-01 2.76e-07 7.01e+05  -1.0 1.40e-06    -  1.00e+00 3.58e-01f  2\n",
      "  23  4.8483314e-01 0.00e+00 1.00e-06  -1.0 1.87e-06    -  1.00e+00 1.00e+00h  1\n",
      "  24  1.9201872e-02 0.00e+00 2.10e+05  -5.7 2.65e-01    -  9.11e-01 9.95e-01f  1\n",
      "  25  3.0254512e-05 0.00e+00 1.46e+03  -5.7 1.90e-02    -  9.93e-01 1.00e+00h  1\n",
      "  26  7.7542569e-06 0.00e+00 1.85e-11  -5.7 2.54e-05    -  1.00e+00 1.00e+00f  1\n",
      "  27 -1.4707013e-06 1.78e-15 7.07e+00  -8.6 5.52e-06    -  8.94e-01 9.97e-01f  1\n",
      "In iteration 27, 1 Slack too small, adjusting variable bound\n",
      "  28 -2.0599341e-06 0.00e+00 3.24e-01  -8.6 3.56e-07    -  1.00e+00 9.55e-01f  1\n",
      "  29 -2.0838291e-06 0.00e+00 2.70e-14  -8.6 1.84e-08    -  1.00e+00 1.00e+00f  1\n",
      "\n",
      "Number of Iterations....: 29\n",
      "\n",
      "                                   (scaled)                 (unscaled)\n",
      "Objective...............:  -2.0838290630820211e-06   -2.0838290630820211e-06\n",
      "Dual infeasibility......:   2.7004586043713401e-14    2.7004586043713401e-14\n",
      "Constraint violation....:   0.0000000000000000e+00    0.0000000000000000e+00\n",
      "Variable bound violation:   1.9786899230211930e-08    1.9786899230211930e-08\n",
      "Complementarity.........:   2.5949781933684690e-09    2.5949781933684690e-09\n",
      "Overall NLP error.......:   2.5949781933684690e-09    2.5949781933684690e-09\n",
      "\n",
      "\n",
      "Number of objective function evaluations             = 34\n",
      "Number of objective gradient evaluations             = 30\n",
      "Number of equality constraint evaluations            = 34\n",
      "Number of inequality constraint evaluations          = 34\n",
      "Number of equality constraint Jacobian evaluations   = 30\n",
      "Number of inequality constraint Jacobian evaluations = 30\n",
      "Number of Lagrangian Hessian evaluations             = 29\n",
      "Total seconds in IPOPT                               = 0.010\n",
      "\n",
      "EXIT: Optimal Solution Found.\n"
     ]
    }
   ],
   "source": [
    "optimizer = Ipopt.Optimizer\n",
    "set_optimizer(graph, optimizer)\n",
    "optimize!(graph)"
   ]
  },
  {
   "cell_type": "markdown",
   "metadata": {},
   "source": [
    "## Query Solution\n",
    "We lastly show how to query the values of the optimization solution. Plasmo.jl supports most (all) methods available in JuMP.jl. Here we query the objective value, the primal variable values, and all of the constraint dual values."
   ]
  },
  {
   "cell_type": "code",
   "execution_count": 31,
   "metadata": {},
   "outputs": [
    {
     "name": "stdout",
     "output_type": "stream",
     "text": [
      "objective value = -2.083829063082021e-6\n",
      "\n",
      "variable values:\n",
      "my_graph.n1.x = 1.9999999404261217\n",
      "my_graph.n1.y = 5.6193499597211924e-9\n",
      "my_graph.n1.z = 2.0000000169789374\n",
      "my_graph.n2.x = 1.9999999404261217\n",
      "my_graph.n2.z = 2.0000000197868992\n",
      "my_graph.n3.x[1] = 8.000000069365052\n",
      "my_graph.n3.x[2] = -9.791174667922972e-9\n",
      "my_graph.n3.x[3] = 1.9999999404261217\n",
      "my_graph.n4.x[1] = 8.000000069365052\n",
      "my_graph.n4.x[2] = 1.9999998308437743\n",
      "\n",
      "constraint dual values:\n",
      "(my_graph.n1.x ≥ 0) = 0.0\n",
      "(my_graph.n1.y ≥ 0) = 0.14723074499479147\n",
      "(my_graph.n1.z ≥ 0) = 0.0\n",
      "(my_graph.n2.x ≥ 0) = 1.252951810896874e-9\n",
      "(my_graph.n2.z ≥ 0) = 0.0\n",
      "(my_graph.n3.x[1] ≥ 0) = 3.1323794185248956e-10\n",
      "(my_graph.n3.x[2] ≥ 0) = 11.999997964035542\n",
      "(my_graph.n3.x[3] ≥ 0) = 1.252951810896874e-9\n",
      "(my_graph.n4.x[1] ≥ 0) = 3.1323794185248956e-10\n",
      "(my_graph.n4.x[2] ≥ 0) = 1.25295187954758e-9\n",
      "(my_graph.n1.x ≤ 2) = -0.03001344141633\n",
      "(my_graph.n1.y ≤ 3) = 0.0\n",
      "(my_graph.n1.z ≤ 2) = -0.8527692550052085\n",
      "(my_graph.n2.z ≤ 2) = -12.177242136754801\n",
      "(my_graph.n1.x + my_graph.n1.y + my_graph.n1.z ≥ 4) = 0.8527692550052085\n",
      "(my_graph.n2.x + my_graph.n2.z ≥ 4) = 12.177242136754803\n",
      "(my_graph.n4.x[1] + my_graph.n4.x[2] ≥ 10) = 11.999997963409092\n",
      "(exp(my_graph.n2.x) - 2.0 ≥ 0) = 4.649735814902103e-10\n",
      "(exp(my_graph.n3.x[3]) - 5.0 ≥ 0) = 1.048884596973452e-9\n",
      "(exp(my_graph.n4.x[2]) - 4.0 ≥ 0) = 7.393856805121313e-10\n",
      "(my_graph.n3.x[1] + my_graph.n3.x[2] + my_graph.n3.x[3] = 10) = -12.999997964035517\n",
      "(my_graph.n1.x - my_graph.n2.x = 0) = -0.8227558135888785\n",
      "(my_graph.n2.x - my_graph.n3.x[3] = 0) = -11.999997955032324\n",
      "(my_graph.n3.x[1] - my_graph.n4.x[1] = 0) = 11.999997963722304\n"
     ]
    }
   ],
   "source": [
    "println(\"objective value = \", objective_value(graph))\n",
    "\n",
    "println()\n",
    "println(\"variable values:\")\n",
    "for var in all_variables(graph)\n",
    "    println(var, \" = \", value(var))\n",
    "end\n",
    "\n",
    "println()\n",
    "println(\"constraint dual values:\")\n",
    "for constraint in all_constraints(graph)\n",
    "    println(\"($constraint) = $(dual(constraint))\")\n",
    "end"
   ]
  },
  {
   "cell_type": "markdown",
   "metadata": {},
   "source": [
    "# Modeling with Subgraphs\n",
    "The primary capability of Plasmo.jl comes from its abstraction to handle nested optimization structures using subgraphs. Here we show how to build and optimize an optigraph that consists of two subgraphs that represent separate optimization problems."
   ]
  },
  {
   "cell_type": "markdown",
   "metadata": {},
   "source": [
    "First we create a convenience function that adds a template optinode model given an optigraph."
   ]
  },
  {
   "cell_type": "code",
   "execution_count": 32,
   "metadata": {},
   "outputs": [
    {
     "data": {
      "text/plain": [
       "add_node_model (generic function with 1 method)"
      ]
     },
     "execution_count": 32,
     "metadata": {},
     "output_type": "execute_result"
    }
   ],
   "source": [
    "function add_node_model(graph::OptiGraph)\n",
    "\tnode = add_node(graph)\n",
    "    @variable(node, x >= 0)\n",
    "    @variable(node, y >= 1)\n",
    "    @constraint(node, x + y <= 5)\n",
    "    @constraint(node, exp(x) >= 2)\n",
    "    return node\n",
    "end"
   ]
  },
  {
   "cell_type": "markdown",
   "metadata": {},
   "source": [
    "## Create a Top-Level OptiGraph"
   ]
  },
  {
   "cell_type": "code",
   "execution_count": 47,
   "metadata": {},
   "outputs": [
    {
     "data": {
      "text/plain": [
       "An OptiGraph: top_graph\n",
       "                 #local elements  #total elements\n",
       "--------------------------------------------------\n",
       "          Nodes:         0                0\n",
       "          Edges:         0                0\n",
       "      Subgraphs:         0                0\n",
       "      Variables:         0                0\n",
       "    Constraints:         0                0\n"
      ]
     },
     "execution_count": 47,
     "metadata": {},
     "output_type": "execute_result"
    }
   ],
   "source": [
    "# the top-level graph\n",
    "graph = OptiGraph(;name=:top_graph)"
   ]
  },
  {
   "cell_type": "markdown",
   "metadata": {},
   "source": [
    "## Create Subgraph Models"
   ]
  },
  {
   "cell_type": "code",
   "execution_count": 48,
   "metadata": {},
   "outputs": [
    {
     "name": "stdout",
     "output_type": "stream",
     "text": [
      "subgraph1 = An OptiGraph:     sub_1\n",
      "                 #local elements  #total elements\n",
      "--------------------------------------------------\n",
      "          Nodes:         2                2\n",
      "          Edges:         1                1\n",
      "      Subgraphs:         0                0\n",
      "      Variables:         4                4\n",
      "    Constraints:         9                9\n",
      "\n",
      "subgraph2 = An OptiGraph:       sg2\n",
      "                 #local elements  #total elements\n",
      "--------------------------------------------------\n",
      "          Nodes:         2                2\n",
      "          Edges:         1                1\n",
      "      Subgraphs:         0                0\n",
      "      Variables:         4                4\n",
      "    Constraints:         9                9\n",
      "\n"
     ]
    }
   ],
   "source": [
    "subgraph1 = OptiGraph(;name=:sub_1)\n",
    "n1 = add_node_model(subgraph1)\n",
    "n2 = add_node_model(subgraph1)\n",
    "@linkconstraint(subgraph1, n1[:x] == n2[:x])\n",
    "\n",
    "subgraph2 = OptiGraph(;name=:sg2)\n",
    "n3 = add_node_model(subgraph2)\n",
    "n4 = add_node_model(subgraph2)\n",
    "@linkconstraint(subgraph2, n3[:x] == n4[:x])\n",
    "\n",
    "@show subgraph1\n",
    "@show subgraph2\n",
    ";"
   ]
  },
  {
   "cell_type": "markdown",
   "metadata": {},
   "source": [
    "## Add Subgraphs to Top-Level Graph"
   ]
  },
  {
   "cell_type": "code",
   "execution_count": 49,
   "metadata": {},
   "outputs": [
    {
     "data": {
      "text/plain": [
       "An OptiGraph: top_graph\n",
       "                 #local elements  #total elements\n",
       "--------------------------------------------------\n",
       "          Nodes:         0                4\n",
       "          Edges:         0                2\n",
       "      Subgraphs:         2                2\n",
       "      Variables:         0                8\n",
       "    Constraints:         0               18\n"
      ]
     },
     "execution_count": 49,
     "metadata": {},
     "output_type": "execute_result"
    }
   ],
   "source": [
    "add_subgraph(graph, subgraph1)\n",
    "add_subgraph(graph, subgraph2);\n",
    "graph"
   ]
  },
  {
   "cell_type": "markdown",
   "metadata": {},
   "source": [
    "## Add Linking Constraints and Objective Function\n",
    "Note that these linking constraint connect nodes across subgraphs. Each subgraph can be treated as a stand-alone optimization problem linked within a larger problem."
   ]
  },
  {
   "cell_type": "code",
   "execution_count": 50,
   "metadata": {},
   "outputs": [
    {
     "data": {
      "text/plain": [
       "An OptiGraph: top_graph\n",
       "                 #local elements  #total elements\n",
       "--------------------------------------------------\n",
       "          Nodes:         0                4\n",
       "          Edges:         2                4\n",
       "      Subgraphs:         2                2\n",
       "      Variables:         0                8\n",
       "    Constraints:         2               20\n"
      ]
     },
     "execution_count": 50,
     "metadata": {},
     "output_type": "execute_result"
    }
   ],
   "source": [
    "@linkconstraint(graph, n1[:x] == n3[:x])\n",
    "@linkconstraint(graph, n2[:x] == n4[:x])\n",
    "@objective(graph, Min, sum(node[:x] + node[:y] for node in all_nodes(graph)))\n",
    "graph"
   ]
  },
  {
   "cell_type": "markdown",
   "metadata": {},
   "source": [
    "## Optimize Subgraphs in Isolation"
   ]
  },
  {
   "cell_type": "code",
   "execution_count": 59,
   "metadata": {},
   "outputs": [
    {
     "name": "stdout",
     "output_type": "stream",
     "text": [
      "objective_value(subgraph1) = 1.3862943561225711\n",
      "objective_value(subgraph2) = 1.9999999850213606\n",
      "value.(subgraph1, all_variables(subgraph1)) = [0.6931471780612856, 2.1267984211100464, 0.6931471780612856, 2.1267984211100464]\n"
     ]
    },
    {
     "data": {
      "text/plain": [
       "4-element Vector{Float64}:\n",
       " 0.6931471780612856\n",
       " 2.1267984211100464\n",
       " 0.6931471780612856\n",
       " 2.1267984211100464"
      ]
     },
     "execution_count": 59,
     "metadata": {},
     "output_type": "execute_result"
    }
   ],
   "source": [
    "@objective(subgraph1, Min, sum(node[:x] for node in all_nodes(subgraph1)))\n",
    "@objective(subgraph2, Min, sum(node[:y] for node in all_nodes(subgraph2)))\n",
    "set_optimizer(subgraph1, optimizer_with_attributes(Ipopt.Optimizer, \"print_level\" => 0))\n",
    "set_optimizer(subgraph2, optimizer_with_attributes(Ipopt.Optimizer, \"print_level\" => 0))\n",
    "optimize!(subgraph1)\n",
    "optimize!(subgraph2)\n",
    "\n",
    "@show objective_value(subgraph1)\n",
    "@show objective_value(subgraph2)"
   ]
  },
  {
   "cell_type": "markdown",
   "metadata": {},
   "source": [
    "Note that variables and constraints can take on different solution values depending on the graph they are mapped to. In this case, our variables could take on different solutions depending if they are solved in the subgraph or the top-level graph. Consequently, it is always recommended to specify the graph when making calls to `value` or `dual`. By default, these function will return the value from the graph the nodes and edges were defined in."
   ]
  },
  {
   "cell_type": "code",
   "execution_count": 61,
   "metadata": {},
   "outputs": [
    {
     "name": "stdout",
     "output_type": "stream",
     "text": [
      "value.(subgraph1, all_variables(subgraph1)) = [0.6931471780612856, 2.1267984211100464, 0.6931471780612856, 2.1267984211100464]\n",
      "value.(subgraph2, all_variables(subgraph2)) = [3.2786254193817546, 0.9999999925106803, 3.2786254193817546, 0.9999999925106803]\n"
     ]
    },
    {
     "data": {
      "text/plain": [
       "4-element Vector{Float64}:\n",
       " 3.2786254193817546\n",
       " 0.9999999925106803\n",
       " 3.2786254193817546\n",
       " 0.9999999925106803"
      ]
     },
     "execution_count": 61,
     "metadata": {},
     "output_type": "execute_result"
    }
   ],
   "source": [
    "@show value.(subgraph1, all_variables(subgraph1))\n",
    "@show value.(subgraph2, all_variables(subgraph2))"
   ]
  },
  {
   "cell_type": "markdown",
   "metadata": {},
   "source": [
    "## Optimize the Full OptiGraph\n",
    "We lastly optimize the full graph and show the solution. Note that we could do cool things here like use the subgraph solutions to warm-start the full solution. Optigraphs offer flexibility with solution approaches to optimization problems."
   ]
  },
  {
   "cell_type": "code",
   "execution_count": 69,
   "metadata": {},
   "outputs": [
    {
     "name": "stdout",
     "output_type": "stream",
     "text": [
      "start_value.(graph, all_variables(subgraph1)) = [0.6931471780612856, 2.1267984211100464, 0.6931471780612856, 2.1267984211100464]\n",
      "start_value.(graph, all_variables(subgraph2)) = [3.2786254193817546, 0.9999999925106803, 3.2786254193817546, 0.9999999925106803]\n",
      "This is Ipopt version 3.14.14, running with linear solver MUMPS 5.6.2.\n",
      "\n",
      "Number of nonzeros in equality constraint Jacobian...:        8\n",
      "Number of nonzeros in inequality constraint Jacobian.:       12\n",
      "Number of nonzeros in Lagrangian Hessian.............:        4\n",
      "\n",
      "Total number of variables............................:        8\n",
      "                     variables with only lower bounds:        8\n",
      "                variables with lower and upper bounds:        0\n",
      "                     variables with only upper bounds:        0\n",
      "Total number of equality constraints.................:        4\n",
      "Total number of inequality constraints...............:        8\n",
      "        inequality constraints with only lower bounds:        4\n",
      "   inequality constraints with lower and upper bounds:        0\n",
      "        inequality constraints with only upper bounds:        4\n",
      "\n",
      "iter    objective    inf_pr   inf_du lg(mu)  ||d||  lg(rg) alpha_du alpha_pr  ls\n",
      "   0  1.4217142e+01 2.59e+00 1.00e+00  -1.0 0.00e+00    -  0.00e+00 0.00e+00   0\n",
      "   1  1.2044452e+01 1.58e+00 1.57e+01  -1.0 6.25e+01    -  2.77e-02 3.88e-01f  1\n",
      "   2  1.1408084e+01 9.47e-01 1.14e+01  -1.0 1.61e+00    -  5.47e-01 4.01e-01h  1\n",
      "   3  9.6011210e+00 1.08e-07 4.94e+00  -1.0 7.44e-01    -  6.96e-01 1.00e+00f  1\n",
      "   4  7.8291212e+00 3.24e-08 1.82e+00  -1.0 1.51e+00    -  1.00e+00 1.00e+00h  1\n",
      "   5  7.4958913e+00 1.69e-08 5.84e-01  -1.0 1.03e-01    -  6.92e-01 1.00e+00h  1\n",
      "   6  6.9727054e+00 7.09e-09 8.42e-02  -1.7 1.31e-01    -  1.00e+00 1.00e+00f  1\n",
      "   7  6.7916410e+00 6.01e-11 2.33e-03  -2.5 5.12e-02    -  1.00e+00 1.00e+00f  1\n",
      "   8  6.7737683e+00 6.71e-11 1.16e-04  -3.8 4.47e-03    -  1.00e+00 1.00e+00h  1\n",
      "   9  6.7726033e+00 2.74e-12 1.09e-06  -5.7 2.91e-04    -  1.00e+00 1.00e+00h  1\n",
      "iter    objective    inf_pr   inf_du lg(mu)  ||d||  lg(rg) alpha_du alpha_pr  ls\n",
      "  10  6.7725887e+00 5.67e-14 1.45e-09  -8.6 3.65e-06    -  1.00e+00 1.00e+00h  1\n",
      "\n",
      "Number of Iterations....: 10\n",
      "\n",
      "                                   (scaled)                 (unscaled)\n",
      "Objective...............:   6.7725886822690251e+00    6.7725886822690251e+00\n",
      "Dual infeasibility......:   1.4546279338666943e-09    1.4546279338666943e-09\n",
      "Constraint violation....:   5.6732396558345499e-14    5.6732396558345499e-14\n",
      "Variable bound violation:   7.4930734950129363e-09    7.4930734950129363e-09\n",
      "Complementarity.........:   3.9389333917478609e-09    3.9389333917478609e-09\n",
      "Overall NLP error.......:   3.9389333917478609e-09    3.9389333917478609e-09\n",
      "\n",
      "\n",
      "Number of objective function evaluations             = 11\n",
      "Number of objective gradient evaluations             = 11\n",
      "Number of equality constraint evaluations            = 11\n",
      "Number of inequality constraint evaluations          = 11\n",
      "Number of equality constraint Jacobian evaluations   = 11\n",
      "Number of inequality constraint Jacobian evaluations = 11\n",
      "Number of Lagrangian Hessian evaluations             = 10\n",
      "Total seconds in IPOPT                               = 0.004\n",
      "\n",
      "EXIT: Optimal Solution Found.\n"
     ]
    }
   ],
   "source": [
    "set_start_value.(graph, all_variables(subgraph1), value.(subgraph1, all_variables(subgraph1)))\n",
    "set_start_value.(graph, all_variables(subgraph2), value.(subgraph2, all_variables(subgraph2)))\n",
    "@show start_value.(graph, all_variables(subgraph1))\n",
    "@show start_value.(graph, all_variables(subgraph2))\n",
    "\n",
    "set_optimizer(graph, Ipopt.Optimizer)\n",
    "optimize!(graph);"
   ]
  },
  {
   "cell_type": "markdown",
   "metadata": {},
   "source": [
    "## Query Full Graph Solution"
   ]
  },
  {
   "cell_type": "code",
   "execution_count": 68,
   "metadata": {},
   "outputs": [
    {
     "name": "stdout",
     "output_type": "stream",
     "text": [
      "objective_value(graph) = 6.772588682269025\n",
      "value.(graph, all_variables(subgraph1)) = [0.6931471780603017, 0.9999999925069265, 0.6931471780603017, 0.9999999925069265]\n",
      "value.(graph, all_variables(subgraph2)) = [0.6931471780603584, 0.9999999925069265, 0.6931471780603584, 0.9999999925069265]\n"
     ]
    }
   ],
   "source": [
    "@show objective_value(graph)\n",
    "@show value.(graph, all_variables(subgraph1))\n",
    "@show value.(graph, all_variables(subgraph2));"
   ]
  }
 ],
 "metadata": {
  "@webio": {
   "lastCommId": null,
   "lastKernelId": null
  },
  "kernelspec": {
   "display_name": "Julia 1.10.4",
   "language": "julia",
   "name": "julia-1.10"
  },
  "language_info": {
   "file_extension": ".jl",
   "mimetype": "application/julia",
   "name": "julia",
   "version": "1.10.4"
  }
 },
 "nbformat": 4,
 "nbformat_minor": 4
}
