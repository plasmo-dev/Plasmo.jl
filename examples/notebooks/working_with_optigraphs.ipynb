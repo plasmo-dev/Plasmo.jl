{
 "cells": [
  {
   "cell_type": "markdown",
   "metadata": {},
   "source": [
    "# Graph Processing with OptiGraphs"
   ]
  },
  {
   "cell_type": "code",
   "execution_count": 1,
   "metadata": {},
   "outputs": [
    {
     "name": "stderr",
     "output_type": "stream",
     "text": [
      "\u001b[32m\u001b[1m  Activating\u001b[22m\u001b[39m project at `~/git/Plasmo.jl/examples`\n",
      "\u001b[36m\u001b[1m[ \u001b[22m\u001b[39m\u001b[36m\u001b[1mInfo: \u001b[22m\u001b[39mPrecompiling Plasmo [d3f7391f-f14a-50cc-bbe4-76a32d1bad3c]\n"
     ]
    }
   ],
   "source": [
    "using Pkg\n",
    "Pkg.activate(joinpath(@__DIR__,\"..\"))\n",
    "push!(LOAD_PATH,joinpath(@__DIR__,\"../..\"))\n",
    "using Plasmo\n",
    "using Ipopt\n",
    "using KaHyPar"
   ]
  },
  {
   "cell_type": "markdown",
   "metadata": {},
   "source": [
    "## Create the OptiGraph\n",
    "Here we create an optigraph that represents a dynamic optimization problem. "
   ]
  },
  {
   "cell_type": "code",
   "execution_count": 2,
   "metadata": {},
   "outputs": [
    {
     "data": {
      "text/plain": [
       "An OptiGraph\n",
       "          g##225 #local elements  #total elements\n",
       "--------------------------------------------------\n",
       "          Nodes:       100              100\n",
       "          Edges:        99               99\n",
       "      Subgraphs:         0                0\n",
       "      Variables:       200              200\n",
       "    Constraints:       199              199\n"
      ]
     },
     "execution_count": 2,
     "metadata": {},
     "output_type": "execute_result"
    }
   ],
   "source": [
    "N = 100\n",
    "x_reference = ones(N)\n",
    "\n",
    "graph = OptiGraph()\n",
    "@optinode(graph, nodes[1:N])\n",
    "@nodevariables(nodes, x >= 0)\n",
    "@nodevariables(nodes, u)\n",
    "for i=1:N\n",
    "    @objective(nodes[i], Min, (nodes[i][:x] - x_reference[i])^2 + nodes[i][:u]^2)\n",
    "end\n",
    "for j in 1:N-1\n",
    "    @linkconstraint(graph, nodes[j+1][:x] == nodes[j][:x] + nodes[j][:u])\n",
    "end\n",
    "\n",
    "# fix initial condition\n",
    "fix(nodes[1][:x], 5.0; force=true)\n",
    "\n",
    "graph"
   ]
  },
  {
   "cell_type": "markdown",
   "metadata": {},
   "source": [
    "## Partition the OptiGraph\n",
    "An optigraph permits a natural hypergraph representation. Plasmo.jl uses such graph representations to allow partitioning of an optigraph into a new optigraph with subgraphs that correspond to the partitions. Here we create a hypergraph projection from an optigraph, we use KaHyPar to partition the result hypergraph, and we assemble a new optigraph from the partition solution."
   ]
  },
  {
   "cell_type": "markdown",
   "metadata": {},
   "source": [
    "### Create a Hypergraph Projection\n",
    "Here we create a hypergraph object that maps optinode and optiedge elements to hypergraph elements. While the hypergraph projection is the most natural Plasmo.jl supports a few different projections that can be used to partition an optimization problem and produce fundamentally different partitions. See the full documentation for the available projections you can partition with."
   ]
  },
  {
   "cell_type": "code",
   "execution_count": 3,
   "metadata": {},
   "outputs": [
    {
     "data": {
      "text/plain": [
       "Graph Projection: Plasmo.HyperGraphProjectionType()"
      ]
     },
     "execution_count": 3,
     "metadata": {},
     "output_type": "execute_result"
    }
   ],
   "source": [
    "projection = hyper_projection(graph)\n",
    "projection"
   ]
  },
  {
   "cell_type": "markdown",
   "metadata": {},
   "source": [
    "### Minimize the edge cut subject to balance constraints\n",
    "It is also possible to minimize the *connectivity* using KaHyPar. This is a common metric to minimize communication."
   ]
  },
  {
   "cell_type": "code",
   "execution_count": 6,
   "metadata": {},
   "outputs": [
    {
     "name": "stdout",
     "output_type": "stream",
     "text": [
      "+++++++++++++++++++++++++++++++++++++++++++++++++++++++++++++++++++++++++++++++ \n",
      "+                    _  __     _   _       ____                               + \n",
      "+                   | |/ /__ _| | | |_   _|  _ \\ __ _ _ __                    + \n",
      "+                   | ' // _` | |_| | | | | |_) / _` | '__|                   + \n",
      "+                   | . \\ (_| |  _  | |_| |  __/ (_| | |                      + \n",
      "+                   |_|\\_\\__,_|_| |_|\\__, |_|   \\__,_|_|                      + \n",
      "+                                    |___/                                    + \n",
      "+                 Karlsruhe Hypergraph Partitioning Framework                 + \n",
      "+++++++++++++++++++++++++++++++++++++++++++++++++++++++++++++++++++++++++++++++ \n",
      "*******************************************************************************\n",
      "*                            Partitioning Context                             *\n",
      "*******************************************************************************\n",
      "Partitioning Parameters:\n",
      "  Hypergraph:                         \n",
      "  Partition File:                     \n",
      "  Mode:                               direct\n",
      "  Objective:                          cut\n",
      "  k:                                  20\n",
      "  epsilon:                            0.03\n",
      "  seed:                               -1\n",
      "  # V-cycles:                         0\n",
      "  time limit:                         -1s\n",
      "  hyperedge size ignore threshold:    1000\n",
      "  hyperedge size removal threshold:   4294967295\n",
      "  use individual block weights:       false\n",
      "  L_opt:                              5\n",
      "  L_max:                              5\n",
      "-------------------------------------------------------------------------------\n",
      "Preprocessing Parameters:\n",
      "  enable deduplication:               false\n",
      "  enable min hash sparsifier:         true\n",
      "  enable community detection:         true\n",
      "-------------------------------------------------------------------------------\n",
      "MinHash Sparsifier Parameters:\n",
      "  max hyperedge size:                 1200\n",
      "  max cluster size:                   10\n",
      "  min cluster size:                   2\n",
      "  number of hash functions:           5\n",
      "  number of combined hash functions:  100\n",
      "  active at median net size >=:       28\n",
      "  sparsifier is active:               false\n",
      "-------------------------------------------------------------------------------\n",
      "Community Detection Parameters:\n",
      "  use community detection in IP:      true\n",
      "  maximum louvain-pass iterations:    100\n",
      "  minimum quality improvement:        0.0001\n",
      "  graph edge weight:                  uniform\n",
      "  reuse community structure:          false\n",
      "  large HE threshold:                 4294967295\n",
      "-------------------------------------------------------------------------------\n",
      "Coarsening Parameters:\n",
      "  Algorithm:                          ml_style\n",
      "  max-allowed-weight-multiplier:      1\n",
      "  contraction-limit-multiplier:       160\n",
      "  hypernode weight fraction:          0.0003125\n",
      "  max. allowed hypernode weight:      1\n",
      "  contraction limit:                  3200\n",
      "  Rating Parameters:\n",
      "    Rating Function:                  heavy_edge\n",
      "    Use Community Structure:          true\n",
      "    Heavy Node Penalty:               no_penalty\n",
      "    Acceptance Policy:                best_prefer_unmatched\n",
      "    Partition Policy:                 normal\n",
      "    Fixed Vertex Acceptance Policy:   fixed_vertex_allowed\n",
      "-------------------------------------------------------------------------------\n",
      "Initial Partitioning Parameters:\n",
      "  # IP trials:                        20\n",
      "  Mode:                               recursive\n",
      "  Technique:                          multilevel\n",
      "  Algorithm:                          pool\n",
      "  Bin Packing algorithm:              worst_fit\n",
      "    early restart on infeasible:      true\n",
      "    late restart on infeasible:       true\n",
      "IP Coarsening:                        \n",
      "Coarsening Parameters:\n",
      "  Algorithm:                          ml_style\n",
      "  max-allowed-weight-multiplier:      1\n",
      "  contraction-limit-multiplier:       150\n",
      "  hypernode weight fraction:          determined before IP\n",
      "  max. allowed hypernode weight:      determined before IP\n",
      "  contraction limit:                  determined before IP\n",
      "  Rating Parameters:\n",
      "    Rating Function:                  heavy_edge\n",
      "    Use Community Structure:          true\n",
      "    Heavy Node Penalty:               no_penalty\n",
      "    Acceptance Policy:                best_prefer_unmatched\n",
      "    Partition Policy:                 normal\n",
      "    Fixed Vertex Acceptance Policy:   fixed_vertex_allowed\n",
      "IP Local Search:                      \n",
      "Local Search Parameters:\n",
      "  Algorithm:                          twoway_fm\n",
      "  iterations per level:               2147483647\n",
      "  stopping rule:                      simple\n",
      "  max. # fruitless moves:             50\n",
      "  Flow Refinement Parameters:\n",
      "    execution policy:                 UNDEFINED\n",
      "-------------------------------------------------------------------------------\n",
      "Local Search Parameters:\n",
      "  Algorithm:                          kway_fm_hyperflow_cutter\n",
      "  iterations per level:               2147483647\n",
      "  stopping rule:                      adaptive_opt\n",
      "  adaptive stopping alpha:            1\n",
      "  Flow Refinement Parameters:\n",
      "    execution policy:                 exponential\n",
      "-------------------------------------------------------------------------------\n",
      " \n",
      "******************************************************************************** \n",
      "*                             Partitioning Result                              * \n",
      "******************************************************************************** \n",
      "Objectives: \n",
      "Hyperedge Cut  (minimize) = 19 \n",
      "SOED           (minimize) = 38 \n",
      "(k-1)          (minimize) = 19 \n",
      "Absorption     (maximize) = 80 \n",
      "Imbalance                 = 0 \n",
      "\n",
      "Partition sizes and weights:  \n",
      "|part  0 | = 5  w(  0 ) = 5 \n",
      "|part  1 | = 5  w(  1 ) = 5 \n",
      "|part  2 | = 5  w(  2 ) = 5 \n",
      "|part  3 | = 5  w(  3 ) = 5 \n",
      "|part  4 | = 5  w(  4 ) = 5 \n",
      "|part  5 | = 5  w(  5 ) = 5 \n",
      "|part  6 | = 5  w(  6 ) = 5 \n",
      "|part  7 | = 5  w(  7 ) = 5 \n",
      "|part  8 | = 5  w(  8 ) = 5 \n",
      "|part  9 | = 5  w(  9 ) = 5 \n",
      "|part 10 | = 5  w( 10 ) = 5 \n",
      "|part 11 | = 5  w( 11 ) = 5 \n",
      "|part 12 | = 5  w( 12 ) = 5 \n",
      "|part 13 | = 5  w( 13 ) = 5 \n",
      "|part 14 | = 5  w( 14 ) = 5 \n",
      "|part 15 | = 5  w( 15 ) = 5 \n",
      "|part 16 | = 5  w( 16 ) = 5 \n",
      "|part 17 | = 5  w( 17 ) = 5 \n",
      "|part 18 | = 5  w( 18 ) = 5 \n",
      "|part 19 | = 5  w( 19 ) = 5 \n",
      "\n",
      "Timings: \n",
      "Partition time                     = 0.0322681 s \n",
      "  + Input Validation               = 1.1197e-05 s \n",
      "  + Preprocessing                  = 0.000101664 s \n",
      "    | min hash sparsifier          = 0 s \n",
      "    | community detection          = 0.000101664 s \n",
      "  + Coarsening                     = 6.353e-06 s \n",
      "  + Initial Partitioning           = 0.0187885 s \n",
      "    + Coarsening                   = 8.39e-07 s \n",
      "          | bisection 1 ( 0 , 19 )        = 4.9e-08 s \n",
      "          | bisection 2 ( 10 , 19 )        = 1.23e-07 s \n",
      "          | bisection 3 ( 15 , 19 )        = 2.8e-08 s \n",
      "          | bisection 4 ( 17 , 19 )        = 2e-08 s \n",
      "          | bisection 5 ( 18 , 19 )        = 1.7e-08 s \n",
      "          | bisection 6 ( 15 , 16 )        = 2.1e-08 s \n",
      "          | bisection 7 ( 10 , 14 )        = 2.1e-08 s \n",
      "          | bisection 8 ( 12 , 14 )        = 1.45e-07 s \n",
      "          | bisection 9 ( 13 , 14 )        = 3e-08 s \n",
      "          | bisection 10 ( 10 , 11 )        = 2.1e-08 s \n",
      "          | bisection 11 ( 0 , 9 )        = 2e-08 s \n",
      "          | bisection 12 ( 5 , 9 )        = 1.79e-07 s \n",
      "          | bisection 13 ( 7 , 9 )        = 2.3e-08 s \n",
      "          | bisection 14 ( 8 , 9 )        = 2.2e-08 s \n",
      "          | bisection 15 ( 5 , 6 )        = 2.1e-08 s \n",
      "          | bisection 16 ( 0 , 4 )        = 2.6e-08 s \n",
      "          | bisection 17 ( 2 , 4 )        = 2.5e-08 s \n",
      "          | bisection 18 ( 3 , 4 )        = 2.6e-08 s \n",
      "          | bisection 19 ( 0 , 1 )        = 2.2e-08 s \n",
      "    + Initial Partitioning         = 0.0180372 s \n",
      "          | bisection 1 ( 0 , 19 )        = 0.00430685 s \n",
      "          | bisection 2 ( 10 , 19 )        = 0.00193081 s \n",
      "          | bisection 3 ( 15 , 19 )        = 0.000980975 s \n",
      "          | bisection 4 ( 17 , 19 )        = 0.000567315 s \n",
      "          | bisection 5 ( 18 , 19 )        = 0.000426151 s \n",
      "          | bisection 6 ( 15 , 16 )        = 0.000384096 s \n",
      "          | bisection 7 ( 10 , 14 )        = 0.00105091 s \n",
      "          | bisection 8 ( 12 , 14 )        = 0.000690292 s \n",
      "          | bisection 9 ( 13 , 14 )        = 0.000444884 s \n",
      "          | bisection 10 ( 10 , 11 )        = 0.000417677 s \n",
      "          | bisection 11 ( 0 , 9 )        = 0.00198062 s \n",
      "          | bisection 12 ( 5 , 9 )        = 0.000964525 s \n",
      "          | bisection 13 ( 7 , 9 )        = 0.000629614 s \n",
      "          | bisection 14 ( 8 , 9 )        = 0.000443189 s \n",
      "          | bisection 15 ( 5 , 6 )        = 0.00042862 s \n",
      "          | bisection 16 ( 0 , 4 )        = 0.000996183 s \n",
      "          | bisection 17 ( 2 , 4 )        = 0.000589083 s \n",
      "          | bisection 18 ( 3 , 4 )        = 0.000418106 s \n",
      "          | bisection 19 ( 0 , 1 )        = 0.0003873 s \n",
      "    + Local Search                 = 1.345e-05 s \n",
      "          | bisection 1 ( 0 , 19 )        = 3.932e-06 s \n",
      "          | bisection 2 ( 10 , 19 )        = 8.91e-07 s \n",
      "          | bisection 3 ( 15 , 19 )        = 5.42e-07 s \n",
      "          | bisection 4 ( 17 , 19 )        = 4.58e-07 s \n",
      "          | bisection 5 ( 18 , 19 )        = 3.47e-07 s \n",
      "          | bisection 6 ( 15 , 16 )        = 3.08e-07 s \n",
      "          | bisection 7 ( 10 , 14 )        = 7.12e-07 s \n",
      "          | bisection 8 ( 12 , 14 )        = 4.55e-07 s \n",
      "          | bisection 9 ( 13 , 14 )        = 4.75e-07 s \n",
      "          | bisection 10 ( 10 , 11 )        = 3.08e-07 s \n",
      "          | bisection 11 ( 0 , 9 )        = 8.96e-07 s \n",
      "          | bisection 12 ( 5 , 9 )        = 5.14e-07 s \n",
      "          | bisection 13 ( 7 , 9 )        = 5.01e-07 s \n",
      "          | bisection 14 ( 8 , 9 )        = 3.42e-07 s \n",
      "          | bisection 15 ( 5 , 6 )        = 3.73e-07 s \n",
      "          | bisection 16 ( 0 , 4 )        = 1.101e-06 s \n",
      "          | bisection 17 ( 2 , 4 )        = 5.71e-07 s \n",
      "          | bisection 18 ( 3 , 4 )        = 3.64e-07 s \n",
      "          | bisection 19 ( 0 , 1 )        = 3.6e-07 s \n",
      "  + Local Search                   = 4.3917e-05 s \n",
      "           | flow refinement       = 0  s \n",
      "  + Postprocessing                 = 0 s \n",
      "    | undo sparsifier              = 0 s \n",
      " \n",
      " \n"
     ]
    },
    {
     "data": {
      "text/plain": [
       "100-element Vector{Int64}:\n",
       " 10\n",
       " 10\n",
       " 10\n",
       " 10\n",
       " 10\n",
       " 11\n",
       " 11\n",
       " 11\n",
       " 11\n",
       " 11\n",
       " 12\n",
       " 12\n",
       " 12\n",
       "  ⋮\n",
       "  7\n",
       "  7\n",
       "  9\n",
       "  9\n",
       "  9\n",
       "  9\n",
       "  9\n",
       "  8\n",
       "  8\n",
       "  8\n",
       "  8\n",
       "  8"
      ]
     },
     "execution_count": 6,
     "metadata": {},
     "output_type": "execute_result"
    }
   ],
   "source": [
    "n_partitions = 20\n",
    "partition_vector = KaHyPar.partition(projection, n_partitions, configuration = :edge_cut) #configuration=:connectivity\n",
    "partition_vector"
   ]
  },
  {
   "cell_type": "markdown",
   "metadata": {},
   "source": [
    "## Assemble New OptiGraph from Partition Result"
   ]
  },
  {
   "cell_type": "code",
   "execution_count": 7,
   "metadata": {},
   "outputs": [
    {
     "data": {
      "text/plain": [
       "An OptiGraph: assembled_graph\n",
       "                 #local elements  #total elements\n",
       "--------------------------------------------------\n",
       "          Nodes:         0              100\n",
       "          Edges:        19               99\n",
       "      Subgraphs:        20               20\n",
       "      Variables:         0              200\n",
       "    Constraints:        19              199\n"
      ]
     },
     "execution_count": 7,
     "metadata": {},
     "output_type": "execute_result"
    }
   ],
   "source": [
    "partition = Partition(projection, partition_vector)\n",
    "new_graph = assemble_optigraph(partition; name=:assembled_graph)"
   ]
  },
  {
   "cell_type": "markdown",
   "metadata": {},
   "source": [
    "We now have a new optigraph with subgraphs that correspond to the partitions. It is now possible to do things like visualize the structure or implement custom solution algorithms where the subgraphs inform the subproblems. While the Plasmo.jl ecosystem currently lacks standard solver interfaces for optigraphs, the tools and data structures now exist to develop such solvers. This is an area of current work; we are happy if you want to get involved!  "
   ]
  },
  {
   "cell_type": "code",
   "execution_count": null,
   "metadata": {},
   "outputs": [],
   "source": []
  }
 ],
 "metadata": {
  "kernelspec": {
   "display_name": "Julia 1.10.4",
   "language": "julia",
   "name": "julia-1.10"
  },
  "language_info": {
   "file_extension": ".jl",
   "mimetype": "application/julia",
   "name": "julia",
   "version": "1.10.4"
  }
 },
 "nbformat": 4,
 "nbformat_minor": 4
}
